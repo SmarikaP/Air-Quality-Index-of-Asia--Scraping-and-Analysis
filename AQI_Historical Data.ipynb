{
 "cells": [
  {
   "cell_type": "code",
   "execution_count": 4,
   "metadata": {},
   "outputs": [],
   "source": [
    "import requests as req\n",
    "from bs4 import BeautifulSoup as bs\n",
    "import pandas as pd\n",
    "import numpy as np"
   ]
  },
  {
   "cell_type": "code",
   "execution_count": 5,
   "metadata": {},
   "outputs": [],
   "source": [
    "cont_info = {\n",
    "            'Asia':['59af92b13e70001c1bd78e53', 31]}"
   ]
  },
  {
   "cell_type": "code",
   "execution_count": 6,
   "metadata": {},
   "outputs": [],
   "source": [
    "import pandas as pd\n",
    "import requests as req\n",
    "from bs4 import BeautifulSoup as bs\n",
    "from geopy.geocoders import Nominatim\n",
    "\n",
    "# Function to get latitude and longitude from city name\n",
    "def get_coordinates(city_name):\n",
    "    geolocator = Nominatim(user_agent=\"my_geocoder\")\n",
    "    location = geolocator.geocode(city_name)\n",
    "    if location:\n",
    "        return location.latitude, location.longitude\n",
    "    else:\n",
    "        return None, None\n",
    "\n",
    "# Initialize an empty DataFrame to store all scraped data\n",
    "df_all = pd.DataFrame()\n",
    "\n",
    "# Loop through each continent in your cont_info dictionary\n",
    "for key, val in cont_info.items():\n",
    "    cont_name = key\n",
    "    cont_url = val[0]\n",
    "    cont_pgs = val[1]\n",
    "    \n",
    "    dfs_continent = []  # List to store DataFrames for each continent\n",
    "    \n",
    "    # Loop through each page of data for the current continent\n",
    "    for pg_num in range(1, cont_pgs + 1):\n",
    "        url = f'https://www.iqair.com/world-most-polluted-cities?continent={cont_url}&country=&state=&page={pg_num}&perPage=50&cities='\n",
    "        page = req.get(url)\n",
    "        soup = bs(page.content, 'html.parser')\n",
    "        \n",
    "        # Find the table containing data\n",
    "        tbl = soup.find('table')\n",
    "        \n",
    "        if tbl:\n",
    "            # Extract column names\n",
    "            col_names = [col.text.strip() for col in tbl.find_all('th')]\n",
    "            \n",
    "            # Extract row data\n",
    "            rows = tbl.find_all('tr')\n",
    "            row_dat = {}\n",
    "            for row in rows:\n",
    "                dat = row.find_all('td')\n",
    "                dat_list = [d.text.strip() for d in dat]\n",
    "                if len(dat_list) > 0:\n",
    "                    dat_key = int(dat_list[0])\n",
    "                    dat_val = dat_list[1:]\n",
    "                    row_dat[dat_key] = dat_val\n",
    "            \n",
    "            # Convert row data to DataFrame\n",
    "            df = pd.DataFrame.from_dict(row_dat, orient='index')\n",
    "            df.columns = col_names[1:]\n",
    "            \n",
    "            # Append the DataFrame to the list for this continent\n",
    "            dfs_continent.append(df)\n",
    "    \n",
    "    # Concatenate all DataFrames for this continent into one DataFrame\n",
    "    if dfs_continent:\n",
    "        df_continent = pd.concat(dfs_continent)\n",
    "        \n",
    "        # Add a column for the continent name\n",
    "        df_continent['continent'] = cont_name\n",
    "        \n",
    "        # Append the continent DataFrame to the overall DataFrame\n",
    "        df_all = pd.concat([df_all, df_continent])\n",
    "\n",
    "# Reset index of the final DataFrame\n",
    "df_all.reset_index(drop=True, inplace=True)\n",
    "\n",
    "# Add latitude and longitude columns based on city names\n",
    "df_all['Latitude'], df_all['Longitude'] = zip(*df_all['City'].apply(get_coordinates))\n",
    "file_path = #/Your file path # Replace 'path_to_your_file.xlsx' with your desired file path\n",
    "\n",
    "# Export df_all to an Excel file\n",
    "df_all.to_csv(file_path, index=False)\n",
    "# Now df_all contains all the scraped data for all continents with latitude and longitude columns\n"
   ]
  },
  {
   "cell_type": "code",
   "execution_count": null,
   "metadata": {},
   "outputs": [],
   "source": []
  }
 ],
 "metadata": {
  "kernelspec": {
   "display_name": "myenv",
   "language": "python",
   "name": "python3"
  },
  "language_info": {
   "codemirror_mode": {
    "name": "ipython",
    "version": 3
   },
   "file_extension": ".py",
   "mimetype": "text/x-python",
   "name": "python",
   "nbconvert_exporter": "python",
   "pygments_lexer": "ipython3",
   "version": "3.11.9"
  }
 },
 "nbformat": 4,
 "nbformat_minor": 2
}
